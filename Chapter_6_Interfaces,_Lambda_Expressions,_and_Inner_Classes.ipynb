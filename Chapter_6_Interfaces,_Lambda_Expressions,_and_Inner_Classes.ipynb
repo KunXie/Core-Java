{
  "nbformat": 4,
  "nbformat_minor": 0,
  "metadata": {
    "colab": {
      "name": "Chapter 6: Interfaces, Lambda Expressions, and Inner Classes.ipynb",
      "provenance": [],
      "collapsed_sections": [],
      "authorship_tag": "ABX9TyMuxN/46rhyl5uXd4Vqb/5H",
      "include_colab_link": true
    },
    "kernelspec": {
      "name": "python3",
      "display_name": "Python 3"
    },
    "language_info": {
      "name": "python"
    }
  },
  "cells": [
    {
      "cell_type": "markdown",
      "metadata": {
        "id": "view-in-github",
        "colab_type": "text"
      },
      "source": [
        "<a href=\"https://colab.research.google.com/github/KunXie/Core-Java/blob/main/Chapter_6_Interfaces%2C_Lambda_Expressions%2C_and_Inner_Classes.ipynb\" target=\"_parent\"><img src=\"https://colab.research.google.com/assets/colab-badge.svg\" alt=\"Open In Colab\"/></a>"
      ]
    },
    {
      "cell_type": "markdown",
      "metadata": {
        "id": "R0fD78uY49A2"
      },
      "source": [
        ""
      ]
    },
    {
      "cell_type": "markdown",
      "metadata": {
        "id": "vH_FZ3HX5NQm"
      },
      "source": [
        "# 6.1 Interfaces\n"
      ]
    },
    {
      "cell_type": "markdown",
      "metadata": {
        "id": "LVe2Mk075VCn"
      },
      "source": [
        "# 6.2 Lambda Expressions"
      ]
    },
    {
      "cell_type": "markdown",
      "metadata": {
        "id": "tMpIx-Fg5b71"
      },
      "source": [
        "# 6.3 Inner Classes\n"
      ]
    },
    {
      "cell_type": "markdown",
      "metadata": {
        "id": "_gxesuNK5gM0"
      },
      "source": [
        "# 6.4 Service Loaders"
      ]
    },
    {
      "cell_type": "markdown",
      "metadata": {
        "id": "fILSRd0y5jB5"
      },
      "source": [
        "# 6.5 Proxies"
      ]
    }
  ]
}